{
 "cells": [
  {
   "cell_type": "markdown",
   "metadata": {},
   "source": [
    "Демонстрация простой вариационной модели и ее прунинга.\n",
    "\n",
    "**Disclaimer**: могут быть ошибки, кроме того, функии могут быть написаны неоптимально."
   ]
  },
  {
   "cell_type": "code",
   "execution_count": 2,
   "metadata": {},
   "outputs": [],
   "source": [
    "import torch as t \n",
    "import torchvision\n",
    "import numpy as np\n",
    "from torch.utils.data.sampler import SubsetRandomSampler\n",
    "import torch.nn as nn\n",
    "import torch.nn.functional as F\n",
    "import torch.optim as optim\n",
    "import matplotlib.pylab as plt\n",
    "from torch.nn.utils import clip_grad_value_\n",
    "%matplotlib inline\n",
    "import pickle\n",
    "from torchvision import datasets, transforms"
   ]
  },
  {
   "cell_type": "code",
   "execution_count": 9,
   "metadata": {},
   "outputs": [],
   "source": [
    "device = 'cpu' # cuda or cpu"
   ]
  },
  {
   "cell_type": "code",
   "execution_count": 4,
   "metadata": {},
   "outputs": [
    {
     "data": {
      "text/plain": [
       "<torch._C.Generator at 0x7fb5c0025090>"
      ]
     },
     "execution_count": 4,
     "metadata": {},
     "output_type": "execute_result"
    }
   ],
   "source": [
    "batch_size = 256\n",
    "init_log_sigma = -3.0 # логарифм дисперсии вариационного распределения при инициализации\n",
    "prior_sigma = 1.0 # априорная дисперсия\n",
    "epoch_num = 5 #количество эпох\n",
    "lam = 1.0 # коэффициент перед дивергенцией\n",
    "hidden_num = 10 # количество нейронов на скрытом слое\n",
    "t.manual_seed(42) # задаем значение генератора случайных чисел для повторяемости экспериментов\n"
   ]
  },
  {
   "cell_type": "code",
   "execution_count": 5,
   "metadata": {},
   "outputs": [],
   "source": [
    "# загрузка данных\n",
    "train_data = torchvision.datasets.MNIST('./files/', train=True, download=True,\n",
    "                             transform = transforms.Compose([transforms.ToTensor(),\n",
    "                              transforms.Normalize((0.5,), (0.5,)),\n",
    "                                  torchvision.transforms.Lambda(lambda x: x.view(-1))\n",
    "                              ]))\n",
    "\n",
    "test_data = torchvision.datasets.MNIST('./files/', train=False, download=True,\n",
    "                             transform = transforms.Compose([transforms.ToTensor(),\n",
    "                              transforms.Normalize((0.5,), (0.5,)),\n",
    "                                  torchvision.transforms.Lambda(lambda x: x.view(-1))\n",
    "                              ]))\n",
    "\n",
    "\n",
    "train_loader = t.utils.data.DataLoader(train_data, batch_size=batch_size, pin_memory=True )\n",
    "test_loader = t.utils.data.DataLoader(test_data, batch_size=batch_size)\n"
   ]
  },
  {
   "cell_type": "code",
   "execution_count": 6,
   "metadata": {},
   "outputs": [],
   "source": [
    "class VarLayer(nn.Module): # вариационная однослойная сеть\n",
    "    def __init__(self, in_,  out_,   act=F.relu):         \n",
    "        nn.Module.__init__(self)                    \n",
    "        self.mean = nn.Parameter(t.randn(in_, out_, device=device)) # параметры средних\n",
    "        t.nn.init.xavier_uniform(self.mean) \n",
    "        self.log_sigma = nn.Parameter(t.ones(in_, out_, device = device)*init_log_sigma) # логарифм дисперсии\n",
    "        self.mean_b = nn.Parameter(t.randn(out_, device=device)) # то же самое для свободного коэффициента\n",
    "        self.log_sigma_b = nn.Parameter(t.ones(out_, device=device) * init_log_sigma)\n",
    "                \n",
    "        self.in_ = in_\n",
    "        self.out_ = out_\n",
    "        self.act = act\n",
    "        \n",
    "    def forward(self,x):\n",
    "        if self.training: # во время обучения - сэмплируем из нормального распределения\n",
    "            self.eps_w = t.distributions.Normal(self.mean, t.exp(self.log_sigma))\n",
    "            self.eps_b = t.distributions.Normal(self.mean_b, t.exp(self.log_sigma_b))\n",
    "        \n",
    "            w = self.eps_w.rsample()\n",
    "            b = self.eps_b.rsample()\n",
    "             \n",
    "        else:  # во время контроля - смотрим средние значения параметра        \n",
    "            w = self.mean \n",
    "            b = self.mean_b\n",
    "            \n",
    "        # функция активации \n",
    "        return self.act(t.matmul(x, w)+b)\n",
    "\n",
    "    def KLD(self):        \n",
    "        # подсчет дивергенции\n",
    "        size = self.in_, self.out_\n",
    "        out = self.out_\n",
    "        self.eps_w = t.distributions.Normal(self.mean, t.exp(self.log_sigma))\n",
    "        self.eps_b = t.distributions.Normal(self.mean_b,  t.exp(self.log_sigma_b))\n",
    "        self.h_w = t.distributions.Normal(t.zeros(size, device=device), t.ones(size, device=device)*prior_sigma)\n",
    "        self.h_b = t.distributions.Normal(t.zeros(out, device=device), t.ones(out, device=device)*prior_sigma)                \n",
    "        k1 = t.distributions.kl_divergence(self.eps_w,self.h_w).sum()        \n",
    "        k2 = t.distributions.kl_divergence(self.eps_b,self.h_b).sum()        \n",
    "        return k1+k2"
   ]
  },
  {
   "cell_type": "code",
   "execution_count": 7,
   "metadata": {},
   "outputs": [],
   "source": [
    "class VarSeqNet(nn.Sequential):    \n",
    "    # класс-обертка на случай, если у нас многослойная нейронная сеть\n",
    "    def KLD(self):\n",
    "        k = 0\n",
    "        for l in self:\n",
    "            k+=l.KLD()\n",
    "        return k"
   ]
  },
  {
   "cell_type": "code",
   "execution_count": 26,
   "metadata": {},
   "outputs": [
    {
     "name": "stderr",
     "output_type": "stream",
     "text": [
      "/usr/lib/python3/dist-packages/ipykernel_launcher.py:5: UserWarning: nn.init.xavier_uniform is now deprecated in favor of nn.init.xavier_uniform_.\n",
      "  \"\"\"\n"
     ]
    },
    {
     "name": "stdout",
     "output_type": "stream",
     "text": [
      "Number of net: 0 tensor(236673.2031) tensor(216732.5312) tensor(19940.6738)\n",
      "Number of net: 0 tensor(276531.5625) tensor(256590.8750) tensor(19940.6738)\n",
      "Number of net: 1 tensor(98752.8281) tensor(79030.0703) tensor(19722.7539)\n",
      "Number of net: 1 tensor(76994.5469) tensor(57395.4727) tensor(19599.0703)\n",
      "end of epoch:  0\n",
      "Number of net: tensor(20858.7695, grad_fn=<AddBackward0>)\n",
      "Number of net: tensor(19754.3574, grad_fn=<AddBackward0>)\n",
      "Number of net: 0 tensor(230122.8281) tensor(210182.1562) tensor(19940.6738)\n",
      "Number of net: 0 tensor(297094.1875) tensor(277153.5000) tensor(19940.6738)\n",
      "Number of net: 1 tensor(48348.9492) tensor(28784.7070) tensor(19564.2422)\n",
      "Number of net: 1 tensor(54945.3359) tensor(35405.3906) tensor(19539.9453)\n",
      "end of epoch:  1\n",
      "Number of net: tensor(20858.7695, grad_fn=<AddBackward0>)\n",
      "Number of net: tensor(19637.5391, grad_fn=<AddBackward0>)\n",
      "Number of net: 0 tensor(264994.7188) tensor(245054.0312) tensor(19940.6738)\n",
      "Number of net: 0 tensor(242112.6719) tensor(222172.) tensor(19940.6738)\n",
      "Number of net: 1 tensor(52481.2617) tensor(32985.3711) tensor(19495.8906)\n",
      "Number of net: 1 tensor(48420.2109) tensor(28955.1211) tensor(19465.0879)\n",
      "end of epoch:  2\n",
      "Number of net: tensor(20858.7695, grad_fn=<AddBackward0>)\n",
      "Number of net: tensor(19545.0215, grad_fn=<AddBackward0>)\n",
      "Number of net: 0 tensor(239554.1562) tensor(219613.4844) tensor(19940.6738)\n",
      "Number of net: 0 tensor(289956.9688) tensor(270016.2812) tensor(19940.6738)\n",
      "Number of net: 1 tensor(40241.7578) tensor(20829.7480) tensor(19412.0078)\n",
      "Number of net: 1 tensor(50700.5156) tensor(31324.3203) tensor(19376.1953)\n",
      "end of epoch:  3\n",
      "Number of net: tensor(20858.7695, grad_fn=<AddBackward0>)\n",
      "Number of net: tensor(19445.3633, grad_fn=<AddBackward0>)\n",
      "Number of net: 0 tensor(292853.3750) tensor(272912.6875) tensor(19940.6738)\n",
      "Number of net: 0 tensor(286884.7500) tensor(266944.0625) tensor(19940.6738)\n",
      "Number of net: 1 tensor(38800.2539) tensor(19484.1484) tensor(19316.1055)\n",
      "Number of net: 1 tensor(63803.5781) tensor(44527.3945) tensor(19276.1855)\n",
      "end of epoch:  4\n",
      "Number of net: tensor(20858.7695, grad_fn=<AddBackward0>)\n",
      "Number of net: tensor(19350.8418, grad_fn=<AddBackward0>)\n"
     ]
    }
   ],
   "source": [
    "# рассмотрим для примера сеть, состояющую из двух слоев\n",
    "# второй слой - softmax. По сути для обучения задавать активацию явно не нужно, она забита в nn.CrossEntropyLoss\n",
    "nets=[]\n",
    "for i in range(2):\n",
    "    nets.append(VarSeqNet(VarLayer(784,  hidden_num), VarLayer(hidden_num, 10, act=lambda x:x)))\n",
    "    optimizer = optim.Adam(nets[i].parameters())\n",
    "    loss_fn = nn.CrossEntropyLoss() \n",
    "loss_graf=[[],[]]\n",
    "out = [None, None]\n",
    "out_loss = [None, None]\n",
    "kld = [None, None]\n",
    "loss = [None, None]\n",
    "\n",
    "for epoch in range(epoch_num):             \n",
    "    for i,net in enumerate(nets):\n",
    "        for id, (x,y) in enumerate(train_loader):  \n",
    "            id+=1\n",
    "            if device == 'cuda':\n",
    "                x = x.cuda()\n",
    "                y = y.cuda()            \n",
    "            optimizer.zero_grad()   \n",
    "            out[i] = net(x)\n",
    "            # правдоподобие должно суммироваться по всей обучающей выборке\n",
    "            # в случае батчей - она приводится к тому же порядку \n",
    "            out_loss[i] = loss_fn(out[i], y)* len(train_data)         \n",
    "            kld[i] =  net.KLD() * lam        \n",
    "            loss[i] = (out_loss[i]+kld[i])       \n",
    "            if id %100 == 0:           \n",
    "                print (\"Number of net:\",i, loss[i].data, out_loss[i].data, kld[i].data)            \n",
    "            loss[i].backward()       \n",
    "            clip_grad_value_(net.parameters(), 1.0) # для стабильности градиента. С этим можно играться\n",
    "            optimizer.step()\n",
    "    print ('end of epoch: ', epoch)   \n",
    "    for i,net in enumerate(nets):\n",
    "        net.eval()\n",
    "        kld[i] =  net.KLD()        \n",
    "        loss[i] = kld[i]\n",
    "        for x,y in test_loader:\n",
    "            if device == 'cuda':\n",
    "                x = x.cuda()\n",
    "                y = y.cuda()                    \n",
    "            out[i] = net(x)        \n",
    "            out_loss[i] = loss_fn(out[i], y)* len(train_data)/len(test_data)           \n",
    "            loss[i] += out_loss[i] \n",
    "        net.train()\n",
    "        print ('Number of net:', i, loss[i])\n",
    "        loss_graf[i].append(loss[i].item())\n",
    "        \n",
    "        "
   ]
  },
  {
   "cell_type": "code",
   "execution_count": 27,
   "metadata": {},
   "outputs": [
    {
     "name": "stdout",
     "output_type": "stream",
     "text": [
      "[[20858.76953125, 20858.76953125, 20858.76953125, 20858.76953125, 20858.76953125], [19754.357421875, 19637.5390625, 19545.021484375, 19445.36328125, 19350.841796875]]\n"
     ]
    },
    {
     "data": {
      "image/png": "[encoded data removed]",
      "text/plain": [
       "<matplotlib.figure.Figure at 0x7fb53978c390>"
      ]
     },
     "metadata": {},
     "output_type": "display_data"
    }
   ],
   "source": [
    "print(loss_graf)\n",
    "for i,net in enumerate(nets): \n",
    "    plt.plot(loss_graf[i])\n",
    "plt.ylabel('Loss function')\n",
    "plt.xlabel('Number of epoche')\n",
    "plt.show()"
   ]
  },
  {
   "cell_type": "code",
   "execution_count": 19,
   "metadata": {},
   "outputs": [],
   "source": []
  },
  {
   "cell_type": "code",
   "execution_count": 28,
   "metadata": {},
   "outputs": [
    {
     "name": "stdout",
     "output_type": "stream",
     "text": [
      "0.1022\n",
      "0.9963\n"
     ]
    }
   ],
   "source": [
    "def test_acc(): # точность классификации\n",
    "    correct = 0\n",
    "    for i,net in enumerate(nets):\n",
    "        net.eval()\n",
    "        for x,y in test_loader:\n",
    "            if device == 'cuda':\n",
    "                x = x.cuda()\n",
    "                y = y.cuda()     \n",
    "            out[i] = net(x)    \n",
    "            correct += out[i].argmax(1).eq(y).sum().cpu().numpy()\n",
    "        print (correct / len(test_data))\n",
    "test_acc()"
   ]
  },
  {
   "cell_type": "code",
   "execution_count": 36,
   "metadata": {},
   "outputs": [],
   "source": [
    "# коэффициенты информативности, см. статью practical variational inference\n",
    "# попробуем удалять параметры первого слоя по этому коэффициенту\n",
    "mu = net[0].mean \n",
    "sigma = t.exp(2*net[0].log_sigma)\n",
    "prune_coef = (mu**2/sigma).cpu().detach().numpy() \n",
    "\n"
   ]
  },
  {
   "cell_type": "code",
   "execution_count": 37,
   "metadata": {},
   "outputs": [
    {
     "name": "stdout",
     "output_type": "stream",
     "text": [
      "nonzero params:  tensor(0.9999, device='cuda:0')\n",
      "0.8876\n",
      "nonzero params:  tensor(0.8999, device='cuda:0')\n",
      "0.8888\n",
      "nonzero params:  tensor(0.7999, device='cuda:0')\n",
      "0.8886\n",
      "nonzero params:  tensor(0.6999, device='cuda:0')\n",
      "0.8853\n",
      "nonzero params:  tensor(0.5999, device='cuda:0')\n",
      "0.8778\n",
      "nonzero params:  tensor(0.4999, device='cuda:0')\n",
      "0.8597\n",
      "nonzero params:  tensor(0.3999, device='cuda:0')\n",
      "0.8473\n",
      "nonzero params:  tensor(0.2999, device='cuda:0')\n",
      "0.8424\n",
      "nonzero params:  tensor(0.1999, device='cuda:0')\n",
      "0.8373\n",
      "nonzero params:  tensor(0.0999, device='cuda:0')\n",
      "0.5528\n"
     ]
    }
   ],
   "source": [
    "# будем удалять по 10% от модели и смотреть качество\n",
    "sorted_coefs = np.sort(prune_coef.flatten())\n",
    "for i in range(10):\n",
    "    ids = (prune_coef <= sorted_coefs[round(i/10*len(sorted_coefs))]) \n",
    "    net[0].mean.data*=(1-t.tensor(ids*1.0, device=device, dtype=t.float))\n",
    "    print ('nonzero params: ', (abs(net[0].mean)>0).float().mean())\n",
    "    (test_acc())\n",
    "    "
   ]
  },
  {
   "cell_type": "code",
   "execution_count": 38,
   "metadata": {},
   "outputs": [
    {
     "name": "stdout",
     "output_type": "stream",
     "text": [
      "nonzero params:  tensor(0.0999, device='cuda:0')\n",
      "0.5528\n",
      "nonzero params:  tensor(0.0899, device='cuda:0')\n",
      "0.514\n",
      "nonzero params:  tensor(0.0798, device='cuda:0')\n",
      "0.4514\n",
      "nonzero params:  tensor(0.0699, device='cuda:0')\n",
      "0.4412\n",
      "nonzero params:  tensor(0.0598, device='cuda:0')\n",
      "0.3953\n",
      "nonzero params:  tensor(0.0499, device='cuda:0')\n",
      "0.3444\n",
      "nonzero params:  tensor(0.0399, device='cuda:0')\n",
      "0.3026\n",
      "nonzero params:  tensor(0.0298, device='cuda:0')\n",
      "0.2887\n",
      "nonzero params:  tensor(0.0199, device='cuda:0')\n",
      "0.2417\n",
      "nonzero params:  tensor(0.0098, device='cuda:0')\n",
      "0.2247\n",
      "nonzero params:  tensor(0., device='cuda:0')\n",
      "0.101\n"
     ]
    }
   ],
   "source": [
    "# проверяем, что фокусов тут нет, удаляем оставшиеся 10%\\\n",
    "for i in range(10):\n",
    "    ids = (prune_coef <= sorted_coefs[round((0.9+i/100)*len(sorted_coefs))]) \n",
    "    net[0].mean.data*=(1-t.tensor(ids*1.0, device=device, dtype=t.float))\n",
    "    print ('nonzero params: ', (abs(net[0].mean)>0).float().mean())\n",
    "    (test_acc())\n",
    "    \n",
    "net[0].mean.data*=0\n",
    "print ('nonzero params: ', (abs(net[0].mean)>0).float().mean())\n",
    "(test_acc())"
   ]
  },
  {
   "cell_type": "code",
   "execution_count": null,
   "metadata": {},
   "outputs": [],
   "source": []
  }
 ],
 "metadata": {
  "kernelspec": {
   "display_name": "Python 3",
   "language": "python",
   "name": "python3"
  },
  "language_info": {
   "codemirror_mode": {
    "name": "ipython",
    "version": 3
   },
   "file_extension": ".py",
   "mimetype": "text/x-python",
   "name": "python",
   "nbconvert_exporter": "python",
   "pygments_lexer": "ipython3",
   "version": "3.6.9"
  }
 },
 "nbformat": 4,
 "nbformat_minor": 2
}
